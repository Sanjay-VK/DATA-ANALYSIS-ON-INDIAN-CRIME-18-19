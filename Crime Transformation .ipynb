
import pandas as pd
import numpy as np 
import matplotlib.pyplot as plt 
import seaborn as sns
# Load your dataset
data = pd.read_csv("C:/Users/Hp/Desktop/INDIA CRIME/crime data set.csv")
data
City	Extortion	Sexual Exploitation	Anger	Disrupt Public Service	Political Motives	Spreading Piracy	Steal Information	Causing Disrepute	Fraud	Others
0	Agra	0	0	12	0	0	0	0	0	64	65
1	Allahabad	28	3	0	0	0	0	0	21	543	0
2	Amritsar	0	3	1	0	0	0	0	3	5	6
3	Asansol	0	0	2	0	0	0	0	0	6	22
4	Aurangabad	0	38	7	0	0	0	0	0	101	0
5	Bhopal	8	2	0	1	0	0	0	17	8	0
6	Chandigarh City	3	7	0	0	0	0	0	0	26	6
7	Dhanbad	0	0	0	0	0	0	0	0	125	0
8	Durg-Bhilainagar	0	2	0	0	0	0	0	10	0	4
9	Faridabad	1	12	0	0	0	2	0	0	21	28
10	Gwalior	2	3	2	0	0	0	0	32	44	0
11	Jabalpur	0	0	0	0	0	0	0	0	0	0
12	Jamshedpur	0	0	0	0	0	0	0	0	122	0
13	Jodhpur	7	11	2	0	0	0	0	7	176	81
14	Kannur	0	2	1	0	3	0	0	2	2	1
15	Kollam	0	10	0	0	0	0	0	0	13	0
16	Kota	5	8	3	0	1	0	0	20	13	0
17	Ludhiana	8	24	0	0	1	0	0	0	27	1
18	Madurai	0	0	0	0	0	0	0	0	2	0
19	Malappuram	1	2	1	0	1	0	0	0	3	0
20	Meerut	0	0	0	0	0	0	0	152	0	11
21	Nasik	0	25	0	0	0	0	0	19	76	0
22	Raipur	0	18	0	1	1	0	0	13	4	8
23	Rajkot	0	4	0	0	0	0	0	0	10	5
24	Ranchi	0	0	0	0	0	0	0	0	358	0
25	Srinagar	1	0	0	0	0	0	0	5	7	4
26	Thiruvananthapuram	3	18	13	0	12	0	0	8	36	4
27	Thrissur	0	5	2	0	0	0	0	1	5	0
28	Tiruchirapalli	5	0	4	0	1	0	0	0	0	5
29	Vadodara	0	0	0	0	0	0	0	3	20	1
30	Varanasi	10	67	43	14	4	26	0	44	235	176
31	Vasai Virar	0	19	1	0	1	1	0	6	32	15
32	Vijayawada	13	28	4	0	1	1	2	0	280	72
33	Vishakhapatnam	1	0	23	0	3	0	0	0	717	64
data = data.fillna(0)
print(data.describe())
       Extortion  Sexual Exploitation      Anger  Disrupt Public Service  \
count  34.000000            34.000000  34.000000               34.000000   
mean    2.823529             9.147059   3.558824                0.470588   
std     5.600166            14.189480   8.475244                2.402465   
min     0.000000             0.000000   0.000000                0.000000   
25%     0.000000             0.000000   0.000000                0.000000   
50%     0.000000             3.000000   0.000000                0.000000   
75%     3.000000            11.750000   2.000000                0.000000   
max    28.000000            67.000000  43.000000               14.000000   

       Political Motives  Spreading Piracy  Steal Information  \
count          34.000000         34.000000          34.000000   
mean            0.852941          0.882353           0.058824   
std             2.203748          4.456964           0.342997   
min             0.000000          0.000000           0.000000   
25%             0.000000          0.000000           0.000000   
50%             0.000000          0.000000           0.000000   
75%             1.000000          0.000000           0.000000   
max            12.000000         26.000000           2.000000   

       Causing Disrepute       Fraud      Others  
count          34.000000   34.000000   34.000000  
mean           10.676471   90.617647   17.029412  
std            27.049585  163.323812   36.111347  
min             0.000000    0.000000    0.000000  
25%             0.000000    5.000000    0.000000  
50%             0.500000   20.500000    2.500000  
75%             9.500000   94.750000   10.250000  
max           152.000000  717.000000  176.000000  
data.shape
(34, 11)
print(data.info())
<class 'pandas.core.frame.DataFrame'>
RangeIndex: 34 entries, 0 to 33
Data columns (total 11 columns):
 #   Column                  Non-Null Count  Dtype 
---  ------                  --------------  ----- 
 0   City                    34 non-null     object
 1   Extortion               34 non-null     int64 
 2   Sexual Exploitation     34 non-null     int64 
 3   Anger                   34 non-null     int64 
 4   Disrupt Public Service  34 non-null     int64 
 5   Political Motives       34 non-null     int64 
 6   Spreading Piracy        34 non-null     int64 
 7   Steal Information       34 non-null     int64 
 8   Causing Disrepute       34 non-null     int64 
 9   Fraud                   34 non-null     int64 
 10  Others                  34 non-null     int64 
dtypes: int64(10), object(1)
memory usage: 3.1+ KB
None
data.columns
Index(['City', 'Extortion', 'Sexual Exploitation', 'Anger',
       'Disrupt Public Service', 'Political Motives', 'Spreading Piracy',
       'Steal Information', 'Causing Disrepute', 'Fraud', 'Others'],
      dtype='object')
# Define a dictionary with city names and their corresponding latitude and longitude coordinates
city_coordinates = {
    "Agra": (27.1767, 78.0081),
    "Allahabad": (25.4358, 81.8463),
    "Amritsar": (31.6340, 74.8723),
    "Asansol": (23.6850, 86.9524),
    "Aurangabad": (19.8762, 75.3433),
    "Bhopal": (23.2599, 77.4126),
    "Chandigarh City": (30.7333, 76.7794),
    "Dhanbad": (23.7957, 86.4304),
    "Durg-Bhilainagar": (21.1904, 81.2849),
    "Faridabad": (28.4089, 77.3178),
    "Gwalior": (26.2183, 78.1828),
    "Jabalpur": (23.1815, 79.9864),
    "Jamshedpur": (22.8046, 86.2029),
    "Jodhpur": (26.2389, 73.0243),
    "Kannur": (11.8745, 75.3704),
    "Kollam": (8.8932, 76.6141),
    "Kota": (25.2138, 75.8648),
    "Ludhiana": (30.9000, 75.8573),
    "Madurai": (9.9252, 78.1198),
    "Malappuram": (11.0732, 76.0748),
    "Meerut": (28.9845, 77.7064),
    "Nasik": (19.9975, 73.7898),
    "Raipur": (21.2514, 81.6296),
    "Rajkot": (22.3039, 70.8022),
    "Ranchi": (23.3441, 85.3096),
    "Srinagar": (34.0837, 74.7973),
    "Thiruvananthapuram": (8.5241, 76.9366),
    "Thrissur": (10.5276, 76.2144),
    "Tiruchirapalli": (10.7905, 78.7047),
    "Vadodara": (22.3072, 73.1812),
    "Varanasi": (25.3176, 82.9739),
    "Vasai Virar": (19.3919, 72.8397),
    "Vijayawada": (16.5062, 80.6480),
    "Vishakhapatnam": (17.6868, 83.2185)
}

# Add latitude and longitude to the dataset
data['Latitude'] = data['City'].map(lambda x: city_coordinates.get(x, (None, None))[0])
data['Longitude'] = data['City'].map(lambda x: city_coordinates.get(x, (None, None))[1])
print(city_coordinates)
{'Agra': (27.1767, 78.0081), 'Allahabad': (25.4358, 81.8463), 'Amritsar': (31.634, 74.8723), 'Asansol': (23.685, 86.9524), 'Aurangabad': (19.8762, 75.3433), 'Bhopal': (23.2599, 77.4126), 'Chandigarh City': (30.7333, 76.7794), 'Dhanbad': (23.7957, 86.4304), 'Durg-Bhilainagar': (21.1904, 81.2849), 'Faridabad': (28.4089, 77.3178), 'Gwalior': (26.2183, 78.1828), 'Jabalpur': (23.1815, 79.9864), 'Jamshedpur': (22.8046, 86.2029), 'Jodhpur': (26.2389, 73.0243), 'Kannur': (11.8745, 75.3704), 'Kollam': (8.8932, 76.6141), 'Kota': (25.2138, 75.8648), 'Ludhiana': (30.9, 75.8573), 'Madurai': (9.9252, 78.1198), 'Malappuram': (11.0732, 76.0748), 'Meerut': (28.9845, 77.7064), 'Nasik': (19.9975, 73.7898), 'Raipur': (21.2514, 81.6296), 'Rajkot': (22.3039, 70.8022), 'Ranchi': (23.3441, 85.3096), 'Srinagar': (34.0837, 74.7973), 'Thiruvananthapuram': (8.5241, 76.9366), 'Thrissur': (10.5276, 76.2144), 'Tiruchirapalli': (10.7905, 78.7047), 'Vadodara': (22.3072, 73.1812), 'Varanasi': (25.3176, 82.9739), 'Vasai Virar': (19.3919, 72.8397), 'Vijayawada': (16.5062, 80.648), 'Vishakhapatnam': (17.6868, 83.2185)}
data
City	Extortion	Sexual Exploitation	Anger	Disrupt Public Service	Political Motives	Spreading Piracy	Steal Information	Causing Disrepute	Fraud	Others	Total Crimes	Latitude	Longitude
0	Agra	0	0	12	0	0	0	0	0	64	65	282	27.1767	78.0081
1	Allahabad	28	3	0	0	0	0	0	21	543	0	1190	25.4358	81.8463
2	Amritsar	0	3	1	0	0	0	0	3	5	6	36	31.6340	74.8723
3	Asansol	0	0	2	0	0	0	0	0	6	22	60	23.6850	86.9524
4	Aurangabad	0	38	7	0	0	0	0	0	101	0	292	19.8762	75.3433
5	Bhopal	8	2	0	1	0	0	0	17	8	0	72	23.2599	77.4126
6	Chandigarh City	3	7	0	0	0	0	0	0	26	6	84	30.7333	76.7794
7	Dhanbad	0	0	0	0	0	0	0	0	125	0	250	23.7957	86.4304
8	Durg-Bhilainagar	0	2	0	0	0	0	0	10	0	4	32	21.1904	81.2849
9	Faridabad	1	12	0	0	0	2	0	0	21	28	128	28.4089	77.3178
10	Gwalior	2	3	2	0	0	0	0	32	44	0	166	26.2183	78.1828
11	Jabalpur	0	0	0	0	0	0	0	0	0	0	0	23.1815	79.9864
12	Jamshedpur	0	0	0	0	0	0	0	0	122	0	244	22.8046	86.2029
13	Jodhpur	7	11	2	0	0	0	0	7	176	81	568	26.2389	73.0243
14	Kannur	0	2	1	0	3	0	0	2	2	1	22	11.8745	75.3704
15	Kollam	0	10	0	0	0	0	0	0	13	0	46	8.8932	76.6141
16	Kota	5	8	3	0	1	0	0	20	13	0	100	25.2138	75.8648
17	Ludhiana	8	24	0	0	1	0	0	0	27	1	122	30.9000	75.8573
18	Madurai	0	0	0	0	0	0	0	0	2	0	4	9.9252	78.1198
19	Malappuram	1	2	1	0	1	0	0	0	3	0	16	11.0732	76.0748
20	Meerut	0	0	0	0	0	0	0	152	0	11	326	28.9845	77.7064
21	Nasik	0	25	0	0	0	0	0	19	76	0	240	19.9975	73.7898
22	Raipur	0	18	0	1	1	0	0	13	4	8	90	21.2514	81.6296
23	Rajkot	0	4	0	0	0	0	0	0	10	5	38	22.3039	70.8022
24	Ranchi	0	0	0	0	0	0	0	0	358	0	716	23.3441	85.3096
25	Srinagar	1	0	0	0	0	0	0	5	7	4	34	34.0837	74.7973
26	Thiruvananthapuram	3	18	13	0	12	0	0	8	36	4	188	8.5241	76.9366
27	Thrissur	0	5	2	0	0	0	0	1	5	0	26	10.5276	76.2144
28	Tiruchirapalli	5	0	4	0	1	0	0	0	0	5	30	10.7905	78.7047
29	Vadodara	0	0	0	0	0	0	0	3	20	1	48	22.3072	73.1812
30	Varanasi	10	67	43	14	4	26	0	44	235	176	1238	25.3176	82.9739
31	Vasai Virar	0	19	1	0	1	1	0	6	32	15	150	19.3919	72.8397
32	Vijayawada	13	28	4	0	1	1	2	0	280	72	802	16.5062	80.6480
33	Vishakhapatnam	1	0	23	0	3	0	0	0	717	64	1616	17.6868	83.2185
# Define the mapping of cities to their states/UTs
city_to_state = {
    'Agra': 'Uttar Pradesh',
    'Allahabad': 'Uttar Pradesh',
    'Amritsar': 'Punjab',
    'Asansol': 'West Bengal',
    'Aurangabad': 'Maharashtra',
    'Bhopal': 'Madhya Pradesh',
    'Chandigarh City': 'Chandigarh (UT)',
    'Dhanbad': 'Jharkhand',
    'Durg-Bhilainagar': 'Chhattisgarh',
    'Faridabad': 'Haryana',
    'Gwalior': 'Madhya Pradesh',
    'Jabalpur': 'Madhya Pradesh',
    'Jamshedpur': 'Jharkhand',
    'Jodhpur': 'Rajasthan',
    'Kannur': 'Kerala',
    'Kollam': 'Kerala',
    'Kota': 'Rajasthan',
    'Ludhiana': 'Punjab',
    'Madurai': 'Tamil Nadu',
    'Malappuram': 'Kerala',
    'Meerut': 'Uttar Pradesh',
    'Nasik': 'Maharashtra',
    'Raipur': 'Chhattisgarh',
    'Rajkot': 'Gujarat',
    'Ranchi': 'Jharkhand',
    'Srinagar': 'Jammu & Kashmir',
    'Thiruvananthapuram': 'Kerala',
    'Thrissur': 'Kerala',
    'Tiruchirapalli': 'Tamil Nadu',
    'Vadodara': 'Gujarat',
    'Varanasi': 'Uttar Pradesh',
    'Vasai Virar': 'Maharashtra',
    'Vijayawada': 'Andhra Pradesh',
    'Vishakhapatnam': 'Andhra Pradesh'
}

data['State/UT'] = data['City'].map(city_to_state)
data
City	Extortion	Sexual Exploitation	Anger	Disrupt Public Service	Political Motives	Spreading Piracy	Steal Information	Causing Disrepute	Fraud	Others	Total Crimes	Latitude	Longitude	State/UT
0	Agra	0	0	12	0	0	0	0	0	64	65	282	27.1767	78.0081	Uttar Pradesh
1	Allahabad	28	3	0	0	0	0	0	21	543	0	1190	25.4358	81.8463	Uttar Pradesh
2	Amritsar	0	3	1	0	0	0	0	3	5	6	36	31.6340	74.8723	Punjab
3	Asansol	0	0	2	0	0	0	0	0	6	22	60	23.6850	86.9524	West Bengal
4	Aurangabad	0	38	7	0	0	0	0	0	101	0	292	19.8762	75.3433	Maharashtra
5	Bhopal	8	2	0	1	0	0	0	17	8	0	72	23.2599	77.4126	Madhya Pradesh
6	Chandigarh City	3	7	0	0	0	0	0	0	26	6	84	30.7333	76.7794	Chandigarh (UT)
7	Dhanbad	0	0	0	0	0	0	0	0	125	0	250	23.7957	86.4304	Jharkhand
8	Durg-Bhilainagar	0	2	0	0	0	0	0	10	0	4	32	21.1904	81.2849	Chhattisgarh
9	Faridabad	1	12	0	0	0	2	0	0	21	28	128	28.4089	77.3178	Haryana
10	Gwalior	2	3	2	0	0	0	0	32	44	0	166	26.2183	78.1828	Madhya Pradesh
11	Jabalpur	0	0	0	0	0	0	0	0	0	0	0	23.1815	79.9864	Madhya Pradesh
12	Jamshedpur	0	0	0	0	0	0	0	0	122	0	244	22.8046	86.2029	Jharkhand
13	Jodhpur	7	11	2	0	0	0	0	7	176	81	568	26.2389	73.0243	Rajasthan
14	Kannur	0	2	1	0	3	0	0	2	2	1	22	11.8745	75.3704	Kerala
15	Kollam	0	10	0	0	0	0	0	0	13	0	46	8.8932	76.6141	Kerala
16	Kota	5	8	3	0	1	0	0	20	13	0	100	25.2138	75.8648	Rajasthan
17	Ludhiana	8	24	0	0	1	0	0	0	27	1	122	30.9000	75.8573	Punjab
18	Madurai	0	0	0	0	0	0	0	0	2	0	4	9.9252	78.1198	Tamil Nadu
19	Malappuram	1	2	1	0	1	0	0	0	3	0	16	11.0732	76.0748	Kerala
20	Meerut	0	0	0	0	0	0	0	152	0	11	326	28.9845	77.7064	Uttar Pradesh
21	Nasik	0	25	0	0	0	0	0	19	76	0	240	19.9975	73.7898	Maharashtra
22	Raipur	0	18	0	1	1	0	0	13	4	8	90	21.2514	81.6296	Chhattisgarh
23	Rajkot	0	4	0	0	0	0	0	0	10	5	38	22.3039	70.8022	Gujarat
24	Ranchi	0	0	0	0	0	0	0	0	358	0	716	23.3441	85.3096	Jharkhand
25	Srinagar	1	0	0	0	0	0	0	5	7	4	34	34.0837	74.7973	Jammu & Kashmir
26	Thiruvananthapuram	3	18	13	0	12	0	0	8	36	4	188	8.5241	76.9366	Kerala
27	Thrissur	0	5	2	0	0	0	0	1	5	0	26	10.5276	76.2144	Kerala
28	Tiruchirapalli	5	0	4	0	1	0	0	0	0	5	30	10.7905	78.7047	Tamil Nadu
29	Vadodara	0	0	0	0	0	0	0	3	20	1	48	22.3072	73.1812	Gujarat
30	Varanasi	10	67	43	14	4	26	0	44	235	176	1238	25.3176	82.9739	Uttar Pradesh
31	Vasai Virar	0	19	1	0	1	1	0	6	32	15	150	19.3919	72.8397	Maharashtra
32	Vijayawada	13	28	4	0	1	1	2	0	280	72	802	16.5062	80.6480	Andhra Pradesh
33	Vishakhapatnam	1	0	23	0	3	0	0	0	717	64	1616	17.6868	83.2185	Andhra Pradesh
# Define the mapping of states/UTs to regions
state_to_region = {
    'Punjab': 'North',
    'Uttar Pradesh': 'North',
    'Rajasthan': 'North',
    'Haryana': 'North',
    'Chandigarh (UT)': 'North',
    'Jammu & Kashmir': 'North',
    'Tamil Nadu': 'South',
    'Kerala': 'South',
    'Andhra Pradesh': 'South',
    'Telangana': 'South',
    'Karnataka': 'South',
    'West Bengal': 'East',
    'Jharkhand': 'East',
    'Odisha': 'East',
    'Bihar': 'East',
    'Assam': 'East',
    'Maharashtra': 'West',
    'Gujarat': 'West',
    'Goa': 'West',
    'Chhattisgarh': 'West',
    'Madhya Pradesh': 'West'
}

# Map states/UTs to regions
data['Region'] = data['State/UT'].map(state_to_region)
data 
City	Extortion	Sexual Exploitation	Anger	Disrupt Public Service	Political Motives	Spreading Piracy	Steal Information	Causing Disrepute	Fraud	Others	Total Crimes	Latitude	Longitude	State/UT	Region
0	Agra	0	0	12	0	0	0	0	0	64	65	282	27.1767	78.0081	Uttar Pradesh	North
1	Allahabad	28	3	0	0	0	0	0	21	543	0	1190	25.4358	81.8463	Uttar Pradesh	North
2	Amritsar	0	3	1	0	0	0	0	3	5	6	36	31.6340	74.8723	Punjab	North
3	Asansol	0	0	2	0	0	0	0	0	6	22	60	23.6850	86.9524	West Bengal	East
4	Aurangabad	0	38	7	0	0	0	0	0	101	0	292	19.8762	75.3433	Maharashtra	West
5	Bhopal	8	2	0	1	0	0	0	17	8	0	72	23.2599	77.4126	Madhya Pradesh	West
6	Chandigarh City	3	7	0	0	0	0	0	0	26	6	84	30.7333	76.7794	Chandigarh (UT)	North
7	Dhanbad	0	0	0	0	0	0	0	0	125	0	250	23.7957	86.4304	Jharkhand	East
8	Durg-Bhilainagar	0	2	0	0	0	0	0	10	0	4	32	21.1904	81.2849	Chhattisgarh	West
9	Faridabad	1	12	0	0	0	2	0	0	21	28	128	28.4089	77.3178	Haryana	North
10	Gwalior	2	3	2	0	0	0	0	32	44	0	166	26.2183	78.1828	Madhya Pradesh	West
11	Jabalpur	0	0	0	0	0	0	0	0	0	0	0	23.1815	79.9864	Madhya Pradesh	West
12	Jamshedpur	0	0	0	0	0	0	0	0	122	0	244	22.8046	86.2029	Jharkhand	East
13	Jodhpur	7	11	2	0	0	0	0	7	176	81	568	26.2389	73.0243	Rajasthan	North
14	Kannur	0	2	1	0	3	0	0	2	2	1	22	11.8745	75.3704	Kerala	South
15	Kollam	0	10	0	0	0	0	0	0	13	0	46	8.8932	76.6141	Kerala	South
16	Kota	5	8	3	0	1	0	0	20	13	0	100	25.2138	75.8648	Rajasthan	North
17	Ludhiana	8	24	0	0	1	0	0	0	27	1	122	30.9000	75.8573	Punjab	North
18	Madurai	0	0	0	0	0	0	0	0	2	0	4	9.9252	78.1198	Tamil Nadu	South
19	Malappuram	1	2	1	0	1	0	0	0	3	0	16	11.0732	76.0748	Kerala	South
20	Meerut	0	0	0	0	0	0	0	152	0	11	326	28.9845	77.7064	Uttar Pradesh	North
21	Nasik	0	25	0	0	0	0	0	19	76	0	240	19.9975	73.7898	Maharashtra	West
22	Raipur	0	18	0	1	1	0	0	13	4	8	90	21.2514	81.6296	Chhattisgarh	West
23	Rajkot	0	4	0	0	0	0	0	0	10	5	38	22.3039	70.8022	Gujarat	West
24	Ranchi	0	0	0	0	0	0	0	0	358	0	716	23.3441	85.3096	Jharkhand	East
25	Srinagar	1	0	0	0	0	0	0	5	7	4	34	34.0837	74.7973	Jammu & Kashmir	North
26	Thiruvananthapuram	3	18	13	0	12	0	0	8	36	4	188	8.5241	76.9366	Kerala	South
27	Thrissur	0	5	2	0	0	0	0	1	5	0	26	10.5276	76.2144	Kerala	South
28	Tiruchirapalli	5	0	4	0	1	0	0	0	0	5	30	10.7905	78.7047	Tamil Nadu	South
29	Vadodara	0	0	0	0	0	0	0	3	20	1	48	22.3072	73.1812	Gujarat	West
30	Varanasi	10	67	43	14	4	26	0	44	235	176	1238	25.3176	82.9739	Uttar Pradesh	North
31	Vasai Virar	0	19	1	0	1	1	0	6	32	15	150	19.3919	72.8397	Maharashtra	West
32	Vijayawada	13	28	4	0	1	1	2	0	280	72	802	16.5062	80.6480	Andhra Pradesh	South
33	Vishakhapatnam	1	0	23	0	3	0	0	0	717	64	1616	17.6868	83.2185	Andhra Pradesh	South
data.to_csv("Updated_Crime.csv", index=False)
 
